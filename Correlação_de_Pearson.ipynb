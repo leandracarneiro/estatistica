{
  "nbformat": 4,
  "nbformat_minor": 0,
  "metadata": {
    "colab": {
      "provenance": [],
      "authorship_tag": "ABX9TyNBaWfpCJ4bMvt3DHz3mMur",
      "include_colab_link": true
    },
    "kernelspec": {
      "name": "python3",
      "display_name": "Python 3"
    },
    "language_info": {
      "name": "python"
    }
  },
  "cells": [
    {
      "cell_type": "markdown",
      "metadata": {
        "id": "view-in-github",
        "colab_type": "text"
      },
      "source": [
        "<a href=\"https://colab.research.google.com/github/leandracarneiro/estatistica/blob/main/Correla%C3%A7%C3%A3o_de_Pearson.ipynb\" target=\"_parent\"><img src=\"https://colab.research.google.com/assets/colab-badge.svg\" alt=\"Open In Colab\"/></a>"
      ]
    },
    {
      "cell_type": "markdown",
      "source": [
        "### **Correlação de Pearson**\n",
        "Pelo menos uma das distribuições é simétrica ou tende para normal"
      ],
      "metadata": {
        "id": "dAq-wPg5Ma3x"
      }
    },
    {
      "cell_type": "markdown",
      "source": [
        "O teste de **correlação de Pearson** é uma medida estatística usada para avaliar a relação entre duas variáveis contínuas. Esse é considerado o método mais confiável para medir essa relação, porque se baseia na covariância.\n",
        "\n",
        "O coeficiente de correlação de Pearson fornece informações sobre o quanto as variáveis estão relacionadas e se essa relação é positiva ou negativa.\n",
        "\n",
        "**Como funciona **\n",
        "\n",
        "O coeficiente de Pearson varia entre -1 e 1.\n",
        "\n",
        "Um valor de 1 indica uma correlação linear positiva perfeita.\n",
        "\n",
        "Um valor de -1 indica uma correlação linear negativa perfeita.\n",
        "\n",
        "Um valor de 0 indica que não há correlação linear.\n",
        "\n",
        "\n",
        "**Aplicações**\n",
        "\n",
        "É amplamente utilizado em diversas áreas, como psicologia, economia, ciências da saúde, ciência de dados.\n",
        "\n",
        "Pode ser estabelecida entre duas variáveis numéricas ou entre uma variável numérica e outra categórica (binária).\n",
        "\n",
        "**Vantagens **\n",
        "\n",
        "O valor é independente de qualquer unidade usada para medir as variáveis.\n",
        "Se a amostra for grande, a precisão da estimativa é mais provável.\n",
        "Limitações Medir apenas relações lineares, Ser sensível a outliers, Assumir que as variáveis são aproximadamente normalmente distribuídas."
      ],
      "metadata": {
        "id": "AR43dGuBMrz_"
      }
    },
    {
      "cell_type": "code",
      "source": [
        "# importar as bibliotecas\n",
        "import pandas as pd\n",
        "import matplotlib.pyplot as plt\n",
        "import seaborn as sns\n",
        "import numpy as np\n",
        "import scipy.stats as stats\n",
        "import sklearn.metrics as sklm"
      ],
      "metadata": {
        "id": "FXFKRvmbM9Ph"
      },
      "execution_count": null,
      "outputs": []
    },
    {
      "cell_type": "code",
      "source": [
        "# Endereço do arquivo com a base de dados\n",
        "arquivo = 'url da base de dados'\n",
        "\n",
        "# Ler o arquivo - sem a primeira coluna\n",
        "dados = pd.read_excel(arquivo)\n",
        "dados.info()"
      ],
      "metadata": {
        "id": "SsporMCSNmpr"
      },
      "execution_count": null,
      "outputs": []
    },
    {
      "cell_type": "markdown",
      "source": [
        "obs: coluna1 é uma varivel, coluna 2 é oura variável"
      ],
      "metadata": {
        "id": "bB-zap3dN2tS"
      }
    },
    {
      "cell_type": "code",
      "source": [
        "# Selecionar os nomes das variáveis  (coluna1, coluna2)\n",
        "varNumericaX = 'coluna1'\n",
        "varNumericaY = 'coluna2'\n",
        "\n",
        "# 1º Filtrar registros que sem nulos nas duas colunas\n",
        "dados2 = dados.dropna(how = 'any', subset=[varNumericaX, varNumericaY])\n",
        "\n",
        "# 2º Definição das variáveis\n",
        "X = dados2[varNumericaX].values\n",
        "Y = dados2[varNumericaY].values\n",
        "\n",
        "print(X)\n",
        "print(Y)"
      ],
      "metadata": {
        "id": "Yr_qicSRNr3S"
      },
      "execution_count": null,
      "outputs": []
    },
    {
      "cell_type": "code",
      "source": [
        "# 1º ETAPA - Correlação de Pearson - Pelo menos uma das distribuição é normal\n",
        "# H0 não existe correlação entre as variáveis\n",
        "\n",
        "r, p = stats.pearsonr(X, Y)\n",
        "\n",
        "print('Teste de Correlação de Pearson')\n",
        "print('Pearson r:', r.round(3))\n",
        "print('p-value:', p.round(3))\n",
        "\n",
        "# interpretação\n",
        "if p <= 0.05:\n",
        "    print('Rejeita H0 = Existe correlação!')\n",
        "else:\n",
        "    print('Aceita H0 = Não existe correlação!')\n",
        "\n",
        "print()\n",
        "\n",
        "# _______________________________________________________________________________________\n",
        "# 2º ETAPA - Estatística descritiva - Análise Gráfica\n",
        "sns.regplot(data=dados2, x=varNumericaX, y=varNumericaY)\n",
        "\n",
        "# para salvar/preparar a figura (depois baixar)\n",
        "plt.savefig('FiguraAtividade_7.jpg', format='jpg', dpi=300)"
      ],
      "metadata": {
        "id": "vQhWk0lQOLns"
      },
      "execution_count": null,
      "outputs": []
    },
    {
      "cell_type": "markdown",
      "source": [
        "Saiba mais: https://docs.scipy.org/doc/scipy-0.14.0/reference/generated/scipy.stats.pearsonr.html\n",
        "\n",
        "Saiba mais: https://machinelearningmastery.com/how-to-use-correlation-to-understand-the-relationship-between-variables/"
      ],
      "metadata": {
        "id": "jAcZow8VOaKf"
      }
    }
  ]
}