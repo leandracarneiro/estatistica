{
  "nbformat": 4,
  "nbformat_minor": 0,
  "metadata": {
    "colab": {
      "provenance": [],
      "authorship_tag": "ABX9TyOqRJTjOoAfRF6XWa/BCvWF",
      "include_colab_link": true
    },
    "kernelspec": {
      "name": "python3",
      "display_name": "Python 3"
    },
    "language_info": {
      "name": "python"
    }
  },
  "cells": [
    {
      "cell_type": "markdown",
      "metadata": {
        "id": "view-in-github",
        "colab_type": "text"
      },
      "source": [
        "<a href=\"https://colab.research.google.com/github/leandracarneiro/estatistica/blob/main/medianas_Teste_Friedmann_pynb.ipynb\" target=\"_parent\"><img src=\"https://colab.research.google.com/assets/colab-badge.svg\" alt=\"Open In Colab\"/></a>"
      ]
    },
    {
      "cell_type": "code",
      "execution_count": null,
      "metadata": {
        "id": "zy5sU18YdQS5"
      },
      "outputs": [],
      "source": []
    },
    {
      "cell_type": "markdown",
      "source": [
        "# Teste Friedmann - Variáveis dependentes/pareadas (antes e após) - três ou mais medianas"
      ],
      "metadata": {
        "id": "Ybs2H8yN_UzY"
      }
    },
    {
      "cell_type": "markdown",
      "source": [
        "O teste de Friedman é um teste estatístico que compara dados amostrais vinculados, ou seja, quando o mesmo indivíduo é avaliado mais de uma vez. É um teste não paramétrico, semelhante ao ANOVA.\n",
        "\n",
        "**O que faz o teste de Friedman?**\n",
        "\n",
        "Detecta diferenças nos tratamentos em vários experimentos de teste\n",
        "Testa diferenças entre grupos quando a variável dependente sendo medida é ordinal\n",
        "\n",
        "Pode ser usado para dados contínuos que violaram as suposições necessárias para executar a ANOVA unidirecional com medidas repetidas\n",
        "\n",
        "***Como funciona o teste de Friedman?***\n",
        "\n",
        "Classifica os valores em cada conjunto correspondente\n",
        "Testa a hipótese de igualdade da soma dos postos de cada grupo\n",
        "\n",
        "**Exemplos de aplicação**\n",
        "\n",
        "Sommeliers classificam diferentes vinhos\n",
        "\n",
        "Soldadores usam tochas de soldagem, e as soldas são classificadas em termos de qualidade\n",
        "\n",
        "Comparar a eficácia relativa de diferentes tipos de publicidade\n",
        "\n",
        "O teste de Friedman é amplamente suportado por muitos pacotes de software estatístico."
      ],
      "metadata": {
        "id": "c11E9yX5fstn"
      }
    },
    {
      "cell_type": "markdown",
      "source": [
        "Saiba mais: https://docs.scipy.org/doc/scipy/reference/generated/scipy.stats.mstats.friedmanchisquare.html"
      ],
      "metadata": {
        "id": "0-oKUe9iX68b"
      }
    },
    {
      "cell_type": "code",
      "execution_count": null,
      "metadata": {
        "id": "kglAPZpdbU6w"
      },
      "outputs": [],
      "source": [
        "# importar as bibliotecas\n",
        "import pandas as pd\n",
        "import matplotlib.pyplot as plt\n",
        "import seaborn as sns\n",
        "import numpy as np\n",
        "import scipy.stats as stats\n",
        "import statsmodels.stats.multicomp as stsmodels"
      ]
    },
    {
      "cell_type": "code",
      "source": [
        "# caso a biblioteca scipy não esteja no servidor da Google, instalar ela com o comando !pip (somente se der algum erro no bloco de cima)\n",
        "# !pip install scipy"
      ],
      "metadata": {
        "id": "dDudbqH1bxKd"
      },
      "execution_count": null,
      "outputs": []
    },
    {
      "cell_type": "code",
      "source": [
        "# importando a bilioteca\n",
        "import scikit_posthocs as sp"
      ],
      "metadata": {
        "id": "_k2muT6Nb3in"
      },
      "execution_count": null,
      "outputs": []
    },
    {
      "cell_type": "code",
      "source": [
        "# Endereço do arquivo com a base de dados\n",
        "arquivo = 'url do seu banco de dados '\n",
        "\n",
        "# Ler o arquivo - sem a primeira coluna\n",
        "dados = pd.read_excel(arquivo)\n",
        "dados.info()"
      ],
      "metadata": {
        "id": "ufSfQPrab3-v"
      },
      "execution_count": null,
      "outputs": []
    },
    {
      "cell_type": "code",
      "source": [
        "# Selecionar os nomes das variáveis  (coluna1, coluna2, coluna3)\n",
        "\n",
        "# Filtrar registros que sem nulos nas duas colunas\n",
        "dados2 = dados.dropna(how = 'any', subset=['coluna1', 'coluna2', 'coluna3'])\n",
        "\n",
        "# Separar os 3 grupos pela categoria, e selecionar só a coluna numérica desejada\n",
        "grupo1 = dados2.coluna1\n",
        "grupo2 = dados2.coluna2\n",
        "grupo3 = dados2.coluna3"
      ],
      "metadata": {
        "id": "K3eYzW5_g5gq"
      },
      "execution_count": null,
      "outputs": []
    },
    {
      "cell_type": "code",
      "source": [],
      "metadata": {
        "id": "jGfRRX51hKL3"
      },
      "execution_count": null,
      "outputs": []
    },
    {
      "cell_type": "markdown",
      "source": [
        "**No exemplo acima existe diferença! Agora precisamos investigar onde está a diferença!**"
      ],
      "metadata": {
        "id": "QXOj3UVSYWEb"
      }
    },
    {
      "cell_type": "markdown",
      "source": [
        "**Teste de Dunn - post hoc para o teste de Friedmann**"
      ],
      "metadata": {
        "id": "XIkA1TyIYZ41"
      }
    },
    {
      "cell_type": "code",
      "source": [
        "# criando uma lista com os 3 grupos de valores\n",
        "dados3 = [grupo1.values, grupo2.values, grupo3.values]\n",
        "\n",
        "# executar o Dunn's test usando uma correção de Bonferonni para os p-values\n",
        "resultado = sp.posthoc_dunn(dados3, p_adjust = 'bonferroni')\n",
        "print(resultado.round(3))"
      ],
      "metadata": {
        "colab": {
          "base_uri": "https://localhost:8080/"
        },
        "id": "T4sW1DF4YVrZ",
        "outputId": "e482f4e3-863c-4aea-9944-d641787a8d26"
      },
      "execution_count": null,
      "outputs": [
        {
          "output_type": "stream",
          "name": "stdout",
          "text": [
            "     1    2    3\n",
            "1  1.0  0.0  0.0\n",
            "2  0.0  1.0  0.0\n",
            "3  0.0  0.0  1.0\n"
          ]
        }
      ]
    },
    {
      "cell_type": "code",
      "source": [
        "# H0 = As medianas são iguais (teste de Dunn)\n",
        "# Para interpretar precisa analisar cada combinação da tabela acima\n",
        "\n",
        "# PESO_US x PESO_NASCER   < 0.001   ==> Existe diferença (rejeita H0)\n",
        "# PESO_US x PESO_ALTA     < 0.001   ==> Existe diferença (rejeita H0)\n",
        "# PESO_NASCER x PESO_ALTA < 0.001   ==> Existe diferença (rejeita H0)"
      ],
      "metadata": {
        "id": "JHsu4uFiYsHV"
      },
      "execution_count": null,
      "outputs": []
    }
  ]
}