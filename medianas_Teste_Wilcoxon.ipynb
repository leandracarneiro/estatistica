{
  "nbformat": 4,
  "nbformat_minor": 0,
  "metadata": {
    "colab": {
      "provenance": [],
      "authorship_tag": "ABX9TyNVVYB/cl1LhE7tMoLdWbY+",
      "include_colab_link": true
    },
    "kernelspec": {
      "name": "python3",
      "display_name": "Python 3"
    },
    "language_info": {
      "name": "python"
    }
  },
  "cells": [
    {
      "cell_type": "markdown",
      "metadata": {
        "id": "view-in-github",
        "colab_type": "text"
      },
      "source": [
        "<a href=\"https://colab.research.google.com/github/leandracarneiro/estatistica/blob/main/medianas_Teste_Wilcoxon.ipynb\" target=\"_parent\"><img src=\"https://colab.research.google.com/assets/colab-badge.svg\" alt=\"Open In Colab\"/></a>"
      ]
    },
    {
      "cell_type": "markdown",
      "source": [
        "# **Teste Wilcoxon - Variáveis dependentes/pareadas (antes e após) - duas medianas**"
      ],
      "metadata": {
        "id": "AZybwjgObWgi"
      }
    },
    {
      "cell_type": "markdown",
      "source": [
        "O teste de Wilcoxon é um teste estatístico não paramétrico que compara duas amostras relacionadas. Ele é usado para verificar se as medianas das amostras são iguais.\n",
        "\n",
        "**Quando usar o teste de Wilcoxon?**\n",
        "\n",
        "Quando não se pode assumir que a população é normalmente distribuída\n",
        "\n",
        "Quando se deseja comparar os mesmos participantes em dois momentos distintos\n",
        "\n",
        "Quando se deseja comparar participantes distintos, mas emparelhados\n",
        "\n",
        "**Como aplicar o teste de Wilcoxon?**\n",
        "\n",
        "Calcular a diferença entre as observações para cada par\n",
        "\n",
        "Ignorar os sinais das diferenças e atribuir postos a elas\n",
        "\n",
        "Calcular a soma dos postos (S) de todas as diferenças negativas (ou positivas)\n",
        "\n",
        "Calcular o valor p para determinar se há evidências suficientes para rejeitar a hipótese nula\n",
        "\n",
        "**Quando rejeitar a hipótese nula?**\n",
        "\n",
        "Se o valor p for menor que o nível de significância pré-definido (geralmente 0,05), então a hipótese nula é rejeitada.\n",
        "\n",
        "O teste de Wilcoxon foi desenvolvido por F. Wilcoxon em 1945"
      ],
      "metadata": {
        "id": "4_BAGsw2cqge"
      }
    },
    {
      "cell_type": "markdown",
      "source": [
        "A mediana da idade gestacional informada pelo obstetra é a mesma da informada pelo pediatra?"
      ],
      "metadata": {
        "id": "Y6Gq82hlbmCP"
      }
    },
    {
      "cell_type": "code",
      "execution_count": null,
      "metadata": {
        "id": "kglAPZpdbU6w"
      },
      "outputs": [],
      "source": [
        "# importar as bibliotecas\n",
        "import pandas as pd\n",
        "import matplotlib.pyplot as plt\n",
        "import seaborn as sns\n",
        "import numpy as np\n",
        "import scipy.stats as stats\n",
        "import statsmodels.stats.multicomp as stsmodels"
      ]
    },
    {
      "cell_type": "code",
      "source": [
        "# caso a biblioteca scipy não esteja no servidor da Google, instalar ela com o comando !pip (somente se der algum erro no bloco de cima)\n",
        "# !pip install scipy"
      ],
      "metadata": {
        "id": "dDudbqH1bxKd"
      },
      "execution_count": null,
      "outputs": []
    },
    {
      "cell_type": "code",
      "source": [
        "# instalar no servidor uma biblioteca específica pra usar o teste de DUNN\n",
        "!pip install scikit-posthocs"
      ],
      "metadata": {
        "id": "YSf9IR1obzvV"
      },
      "execution_count": null,
      "outputs": []
    },
    {
      "cell_type": "code",
      "source": [
        "# importando a bilioteca\n",
        "import scikit_posthocs as sp"
      ],
      "metadata": {
        "id": "_k2muT6Nb3in"
      },
      "execution_count": null,
      "outputs": []
    },
    {
      "cell_type": "code",
      "source": [
        "# Endereço do arquivo com a base de dados\n",
        "arquivo = 'url do seu bancode dados '\n",
        "\n",
        "# Ler o arquivo - sem a primeira coluna\n",
        "dados = pd.read_excel(arquivo)\n",
        "dados.info()"
      ],
      "metadata": {
        "id": "ufSfQPrab3-v"
      },
      "execution_count": null,
      "outputs": []
    },
    {
      "cell_type": "code",
      "source": [
        "# Selecionar os nomes das variáveis  (coluna1, coluna2)\n",
        "\n",
        "# Filtrar registros que sem nulos nas duas colunas\n",
        "dados2 = dados.dropna(how = 'any', subset=['coluna1', 'coluna2'])\n",
        "\n",
        "# Separar os dois grupos pela categoria, e selecionar só a coluna numérica desejada\n",
        "grupo1 = dados2.coluna1\n",
        "grupo2 = dados2.coluna2"
      ],
      "metadata": {
        "id": "eCIuvW3pcAS_"
      },
      "execution_count": null,
      "outputs": []
    },
    {
      "cell_type": "code",
      "source": [
        "# 1ª ETAPA - Estatística descritiva\n",
        "\n",
        "# Estatística descritiva - Análise dos valores medianos\n",
        "medianG1 = grupo1.median()\n",
        "medianG2 = grupo2.median()\n",
        "\n",
        "print(f'Mediana do Grupo 1: {medianG1:.1f}')\n",
        "print(f'Mediana do Grupo 2: {medianG2:.1f}')\n",
        "print()\n",
        "\n",
        "# mediaG1 = grupo1.mean()\n",
        "# mediaG2 = grupo2.mean()\n",
        "# print(f'Media do Grupo 1: {mediaG1:.10f}')\n",
        "# print(f'Media do Grupo 2: {mediaG2:.10f}')\n",
        "# print()\n",
        "\n",
        "# _______________________________________________________________________________________\n",
        "# 2º ETAPA - realizar o teste de medianas para VARIÁVEIS DEPENDENTES / PAREADAS / (antes e após)\n",
        "\n",
        "# Teste de Wilcoxon para variáveis pareadas (antes e após)\n",
        "# H0 = as medianas são iguais\n",
        "\n",
        "resultado = stats.wilcoxon(grupo1, grupo2)\n",
        "print('Teste de Wilcoxon - 2 medianas pareadas')\n",
        "print(f'p-value: {resultado.pvalue:.3f}')\n",
        "\n",
        "# interpretação\n",
        "if resultado.pvalue <= 0.05:\n",
        "    print('Rejeita H0 => As medianas são diferentes!')\n",
        "else:\n",
        "    print('Aceita H0 => As medianas são iguais!')\n",
        "\n",
        "# _______________________________________________________________________________________\n",
        "print()\n",
        "# Estatística descritiva - Análise Gráfica -> Mostrar 2 histogramas\n",
        "\n",
        "fig, (ax1, ax2) = plt.subplots(1, 2, figsize=(12, 4))\n",
        "sns.histplot(grupo1, ax=ax1, binwidth=1)\n",
        "sns.histplot(grupo2, ax=ax2, binwidth=1)\n",
        "plt.tight_layout()"
      ],
      "metadata": {
        "id": "oyGcwIvVcg0H"
      },
      "execution_count": null,
      "outputs": []
    },
    {
      "cell_type": "markdown",
      "source": [
        "Saiba mais: https://docs.scipy.org/doc/scipy/reference/generated/scipy.stats.wilcoxon.html#scipy.stats.wilcoxon"
      ],
      "metadata": {
        "id": "vV8TSooqc6uG"
      }
    }
  ]
}