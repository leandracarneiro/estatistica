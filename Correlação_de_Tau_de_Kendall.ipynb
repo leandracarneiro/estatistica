{
  "nbformat": 4,
  "nbformat_minor": 0,
  "metadata": {
    "colab": {
      "provenance": [],
      "authorship_tag": "ABX9TyOHIc/knuKJDL+ugQGWiS1H",
      "include_colab_link": true
    },
    "kernelspec": {
      "name": "python3",
      "display_name": "Python 3"
    },
    "language_info": {
      "name": "python"
    }
  },
  "cells": [
    {
      "cell_type": "markdown",
      "metadata": {
        "id": "view-in-github",
        "colab_type": "text"
      },
      "source": [
        "<a href=\"https://colab.research.google.com/github/leandracarneiro/estatistica/blob/main/Correla%C3%A7%C3%A3o_de_Tau_de_Kendall.ipynb\" target=\"_parent\"><img src=\"https://colab.research.google.com/assets/colab-badge.svg\" alt=\"Open In Colab\"/></a>"
      ]
    },
    {
      "cell_type": "code",
      "execution_count": null,
      "metadata": {
        "id": "_aUmvGVBQ53c"
      },
      "outputs": [],
      "source": []
    },
    {
      "cell_type": "markdown",
      "source": [
        "## Correlação de Tau de Kendall"
      ],
      "metadata": {
        "id": "_ebrTjFqQ64k"
      }
    },
    {
      "cell_type": "markdown",
      "source": [
        "A correlação de Tau de Kendall, também conhecida como coeficiente de correlação de Kendall, é uma medida estatística que avalia a associação entre duas variáveis ordinais.\n",
        "\n",
        "**Aplicações**\n",
        "\n",
        "É uma alternativa ao coeficiente de correlação de Pearson quando os dados não seguem uma distribuição normal\n",
        "É útil em análises de rankings, onde a ordem dos dados é importante\n",
        "É comum em áreas como psicometria, ciência de dados e bioestatística\n",
        "\n",
        "***Como interpretar ***\n",
        "\n",
        "Valores de τ próximos de -1 ou +1 indicam uma correlação forte\n",
        "Valores próximos de 0 indicam correlações mais fracas ou inexistentes\n",
        "Valores positivos indicam que o aumento de uma variável implica no aumento da outra\n",
        "Valores negativos indicam que o aumento de uma variável implica na diminuição de outra\n",
        "\n",
        "**Vantagens**\n",
        "\n",
        "É um método adequado quando amostras têm tamanhos reduzidos\n",
        "É uma alternativa robusta a outros métodos de correlação\n",
        "Sua capacidade de lidar com dados não normais e sua resistência a outliers fazem dele uma escolha popular entre pesquisadores e analistas"
      ],
      "metadata": {
        "id": "9SzOObfyRIFV"
      }
    },
    {
      "cell_type": "code",
      "source": [
        "# importar as bibliotecas\n",
        "import pandas as pd\n",
        "import matplotlib.pyplot as plt\n",
        "import seaborn as sns\n",
        "import numpy as np\n",
        "import scipy.stats as stats\n",
        "import sklearn.metrics as sklm"
      ],
      "metadata": {
        "id": "82RqDgtKRTTE"
      },
      "execution_count": null,
      "outputs": []
    },
    {
      "cell_type": "code",
      "source": [
        "# Endereço do arquivo com a base de dados\n",
        "arquivo = 'url do seu banco de dados'\n",
        "\n",
        "# Ler o arquivo - sem a primeira coluna\n",
        "dados = pd.read_excel(arquivo)\n",
        "dados.info()"
      ],
      "metadata": {
        "id": "LfdD-ThjRZwh"
      },
      "execution_count": null,
      "outputs": []
    },
    {
      "cell_type": "markdown",
      "source": [
        "coluna1 é uma varivael,  coluna 2 é outra variavel"
      ],
      "metadata": {
        "id": "HOgh92UDRydJ"
      }
    },
    {
      "cell_type": "code",
      "source": [
        "# Selecionar os nomes das variáveis (coluna1, coluna2)\n",
        "varNumericaX = 'coluna1'\n",
        "varNumericaY = 'coluna2'\n",
        "\n",
        "# 1º Filtrar registros que sem nulos nas duas colunas\n",
        "dados2 = dados.dropna(how = 'any', subset=[varNumericaX, varNumericaY])\n",
        "\n",
        "# 2º Definição das variáveis\n",
        "X = dados2[varNumericaX].values\n",
        "Y = dados2[varNumericaY].values\n",
        "\n",
        "print(X)\n",
        "print(Y)"
      ],
      "metadata": {
        "id": "Bc8UmbiURhRS"
      },
      "execution_count": null,
      "outputs": []
    },
    {
      "cell_type": "code",
      "source": [
        "# 1º ETAPA - Correlação de Tau de Kendall - Para distribuições ordinais\n",
        "# H0 não existe correlação entre as variáveis\n",
        "\n",
        "r, p = stats.kendalltau(X, Y)\n",
        "\n",
        "print('Teste de Correlação de Tau de Kendall')\n",
        "print('Kendall t:', r.round(3))\n",
        "print('p-value:', p.round(3))\n",
        "\n",
        "# interpretação\n",
        "if p <= 0.05:\n",
        "    print('Rejeita H0 = Existe correlação!')\n",
        "else:\n",
        "    print('Aceita H0 = Não existe correlação!')\n",
        "\n",
        "print()\n",
        "\n",
        "# _______________________________________________________________________________________\n",
        "# 2º ETAPA - Estatística descritiva - Análise Gráfica\n",
        "sns.regplot(data=dados2, x=varNumericaX, y=varNumericaY)"
      ],
      "metadata": {
        "id": "ui1hfYwPRqW_"
      },
      "execution_count": null,
      "outputs": []
    }
  ]
}