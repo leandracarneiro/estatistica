{
  "nbformat": 4,
  "nbformat_minor": 0,
  "metadata": {
    "colab": {
      "provenance": [],
      "authorship_tag": "ABX9TyPjNXB4KHPAOspp2M+Av7fG",
      "include_colab_link": true
    },
    "kernelspec": {
      "name": "python3",
      "display_name": "Python 3"
    },
    "language_info": {
      "name": "python"
    }
  },
  "cells": [
    {
      "cell_type": "markdown",
      "metadata": {
        "id": "view-in-github",
        "colab_type": "text"
      },
      "source": [
        "<a href=\"https://colab.research.google.com/github/leandracarneiro/estatistica/blob/main/media_Teste_t_Student_Levene.ipynb\" target=\"_parent\"><img src=\"https://colab.research.google.com/assets/colab-badge.svg\" alt=\"Open In Colab\"/></a>"
      ]
    },
    {
      "cell_type": "markdown",
      "source": [
        "Variáveis Numéricas (distribuições normais) x Categóricas"
      ],
      "metadata": {
        "id": "KBkZX3o3jR-o"
      }
    },
    {
      "cell_type": "markdown",
      "source": [
        "Distribuições simétricas - distribuição normal ou que tendem para normal"
      ],
      "metadata": {
        "id": "mbq0AUt6jlJN"
      }
    },
    {
      "cell_type": "markdown",
      "source": [
        "# Teste t-Student (uma média)\n",
        "Teste de média para uma média.\n",
        "Distribuições simétricas - distribuição normal ou que tendem para normal\n",
        "\n",
        "Exemplo: a média é igual ao valor x?"
      ],
      "metadata": {
        "id": "VMSTnd83ZULW"
      }
    },
    {
      "cell_type": "code",
      "source": [
        "# importar as bibliotecas\n",
        "import pandas as pd\n",
        "import matplotlib.pyplot as plt\n",
        "import seaborn as sns\n",
        "import numpy as np\n",
        "import scipy.stats as stats\n",
        "import statsmodels.stats.multicomp as stsmodels\n",
        "from statsmodels.stats.multicomp import pairwise_tukeyhsd\n",
        "from statsmodels.stats.anova import AnovaRM"
      ],
      "metadata": {
        "id": "MB-IztkPQ4xa"
      },
      "execution_count": null,
      "outputs": []
    },
    {
      "cell_type": "code",
      "source": [
        "# caso a biblioteca scipy não esteja no servidor da Google\n",
        "# instalar ela com o comando !pip (somente se der algum erro no bloco de cima)\n",
        "\n",
        "# !pip install scipy"
      ],
      "metadata": {
        "id": "1WxaEvKvhMAJ"
      },
      "execution_count": null,
      "outputs": []
    },
    {
      "cell_type": "code",
      "source": [
        "# Endereço do arquivo com a base de dados\n",
        "arquivo = 'url do seu banco de ddos'\n",
        "\n",
        "# Ler o arquivo\n",
        "dados = pd.read_excel(arquivo)\n",
        "dados"
      ],
      "metadata": {
        "id": "hSrHuTzkTvTi"
      },
      "execution_count": null,
      "outputs": []
    },
    {
      "cell_type": "code",
      "execution_count": null,
      "metadata": {
        "id": "FwFM1VgWjJNK"
      },
      "outputs": [],
      "source": [
        "# Selecionar os nomes das variáveis  (coluna1)\n",
        "variavelNumerica = 'coluna1'"
      ]
    },
    {
      "cell_type": "code",
      "source": [
        "# Filtrar registros que sem nulos nas duas colunas\n",
        "dados2 = dados.dropna(how = 'any', subset=[variavelNumerica])\n",
        "\n",
        "#  selecionada apenas a coluna\n",
        "varNumerica = dados2[variavelNumerica]"
      ],
      "metadata": {
        "id": "MUofF4Dfj9AK"
      },
      "execution_count": null,
      "outputs": []
    },
    {
      "cell_type": "markdown",
      "source": [
        "Teste de média para uma média.\n",
        "\n",
        "Exemplo: a média é igual ao valor x?\n",
        "\n",
        "Testar para 5000\n",
        "\n",
        "A média da coluna1 é estatisticamente similar a 5000g ?"
      ],
      "metadata": {
        "id": "7jWoNMzPl2n7"
      }
    },
    {
      "cell_type": "code",
      "source": [
        "# valor que deseja testar\n",
        "valor = 5000"
      ],
      "metadata": {
        "id": "-ghNGeibkKX6"
      },
      "execution_count": null,
      "outputs": []
    },
    {
      "cell_type": "code",
      "source": [
        "# Realizar o Teste-t para saber se a média é igual a um valor específico\n",
        "\n",
        "# Test t-Student para uma média\n",
        "# H0 = A média é igual ao valor X\n",
        "resultado = stats.ttest_1samp(varNumerica, valor)\n",
        "\n",
        "print('Teste-t para uma média')\n",
        "print(f'p-value: {resultado.pvalue:.3f}')\n",
        "\n",
        "\n",
        "# interpretação\n",
        "if resultado.pvalue <= 0.05:\n",
        "    print('Rejeita H0 => As médias são diferentes!')\n",
        "else:\n",
        "    print('Aceita H0 => As médias são iguais!')"
      ],
      "metadata": {
        "id": "zwVZfQ9vmDws"
      },
      "execution_count": null,
      "outputs": []
    },
    {
      "cell_type": "markdown",
      "source": [
        "Saiba mais: https://docs.scipy.org/doc/scipy/reference/generated/scipy.stats.ttest_1samp.html#scipy.stats.ttest_1samp"
      ],
      "metadata": {
        "id": "fL8hOSu-mNY0"
      }
    },
    {
      "cell_type": "markdown",
      "source": [
        "### Teste t-Student (duas médias)\n",
        "Teste de média para duas médias.\n",
        "\n",
        "Exemplo: a média é igual entre as duas categorias?\n",
        "A média entre o peso ao nascer é igual entre coluna 2 (masculino e feminino)?"
      ],
      "metadata": {
        "id": "bj4aMmUSmQFG"
      }
    },
    {
      "cell_type": "code",
      "source": [
        "# Selecionar os nomes das variáveis  (coluna1, coluna2)\n",
        "varNumerica = 'coluna1'\n",
        "varCategorica = 'coluna2'\n",
        "\n",
        "# Filtrar registros que sem nulos nas duas colunas\n",
        "dados2 = dados.dropna(how = 'any', subset=[varNumerica, varCategorica])\n",
        "\n",
        "# Separar os dois grupos pela categoria, e selecionar só a coluna numérica desejada\n",
        "grupo1 = dados2[(dados2.coluna2 == 'Feminino')].coluna1\n",
        "grupo2 = dados2[(dados2.coluna2 == 'Masculino')].coluna1"
      ],
      "metadata": {
        "id": "KOANZ5iGmLkH"
      },
      "execution_count": null,
      "outputs": []
    },
    {
      "cell_type": "code",
      "source": [
        "# 1ª ETAPA - Estatística descritiva\n",
        "\n",
        "# Estatística descritiva - Análise dos valores médios\n",
        "mediaG1 = grupo1.mean()\n",
        "mediaG2 = grupo2.mean()\n",
        "\n",
        "print(f'Média do Grupo 1: {mediaG1:.3f}')\n",
        "print(f'Média do Grupo 2: {mediaG2:.3f}')\n",
        "print()\n",
        "\n",
        "# Estatística descritiva - Análise Gráfica\n",
        "grafico = sns.FacetGrid(dados, col=varCategorica)\n",
        "grafico.map(sns.histplot, varNumerica)"
      ],
      "metadata": {
        "id": "xCfnrs5Em3OM"
      },
      "execution_count": null,
      "outputs": []
    },
    {
      "cell_type": "code",
      "source": [
        "# 1ª ETAPA - Estatística descritiva\n",
        "\n",
        "# Estatística descritiva - Análise dos valores médios\n",
        "mediaG1 = grupo1.mean()\n",
        "mediaG2 = grupo2.mean()\n",
        "\n",
        "print(f'Média do Grupo 1: {mediaG1:.3f}')\n",
        "print(f'Média do Grupo 2: {mediaG2:.3f}')\n",
        "print()\n",
        "\n",
        "# _______________________________________________________________________________________\n",
        "# 2ª ETAPA - Teste de Levene para saber se as variâncias são IGUAIS ou DIFERENTES entre os grupos\n",
        "\n",
        "# Teste de Levene - teste de homogeneidade\n",
        "# H0 = as variâncias são iguais\n",
        "resultado = stats.levene(grupo1, grupo2, center = 'mean')\n",
        "print('Teste de Levene (variâncias)')\n",
        "print(f'p-value: {resultado.pvalue:.3f}')\n",
        "\n",
        "# interpretação\n",
        "if resultado.pvalue <= 0.05:\n",
        "    print('Rejeita H0 => As variâncias são diferentes!')\n",
        "    varianciasIguais = False\n",
        "else:\n",
        "    print('Aceita H0 => As variâncias são iguais!')\n",
        "    varianciasIguais = True\n",
        "\n",
        "print()\n",
        "# _________________________________________________________________________________\n",
        "# 3ª ETAPA - Teste de médias (para variâncias IGUAIS ou DIFERENTES, dependendo do teste de LEVENE)\n",
        "\n",
        "# Teste t - teste de médias\n",
        "# H0 = As médias são iguais\n",
        "resultado = stats.ttest_ind(grupo1, grupo2, equal_var=varianciasIguais)\n",
        "\n",
        "print('Teste-t de médias')\n",
        "print(f'p-value: {resultado.pvalue:.3f}')\n",
        "\n",
        "# interpretação\n",
        "if resultado.pvalue <= 0.05:\n",
        "    print('Rejeita H0 => As médias são diferentes!')\n",
        "else:\n",
        "    print('Aceita H0 => As médias são iguais!')\n",
        "\n",
        "print()\n",
        "# Estatística descritiva - Análise Gráfica\n",
        "grafico = sns.FacetGrid(dados, col=varCategorica)\n",
        "grafico.map(sns.histplot, varNumerica)"
      ],
      "metadata": {
        "id": "Mbb7BqFtTO-w"
      },
      "execution_count": null,
      "outputs": []
    },
    {
      "cell_type": "markdown",
      "source": [
        "Saiba mais: https://docs.scipy.org/doc/scipy/reference/generated/scipy.stats.ttest_ind.html#scipy.stats.ttest_ind"
      ],
      "metadata": {
        "id": "T2mE6yMkTmEv"
      }
    }
  ]
}