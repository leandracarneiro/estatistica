{
  "nbformat": 4,
  "nbformat_minor": 0,
  "metadata": {
    "colab": {
      "provenance": [],
      "authorship_tag": "ABX9TyNSB7CdaRb6d9190BwE/LLY",
      "include_colab_link": true
    },
    "kernelspec": {
      "name": "python3",
      "display_name": "Python 3"
    },
    "language_info": {
      "name": "python"
    }
  },
  "cells": [
    {
      "cell_type": "markdown",
      "metadata": {
        "id": "view-in-github",
        "colab_type": "text"
      },
      "source": [
        "<a href=\"https://colab.research.google.com/github/leandracarneiro/estatistica/blob/main/Correla%C3%A7%C3%A3o_de_Spearman.ipynb\" target=\"_parent\"><img src=\"https://colab.research.google.com/assets/colab-badge.svg\" alt=\"Open In Colab\"/></a>"
      ]
    },
    {
      "cell_type": "code",
      "execution_count": null,
      "metadata": {
        "id": "sVwxB-C7OujV"
      },
      "outputs": [],
      "source": []
    },
    {
      "cell_type": "markdown",
      "source": [
        "### Quando nenhuma das distribuições é normal, todas são assimétricas.\n",
        "A **correlação de Spearman** é uma técnica estatística que mede a relação entre duas variáveis, considerando a ordem dos valores.\n",
        "\n",
        "É uma estatística não paramétrica, ou seja, não requer suposições sobre a distribuição dos dados.\n",
        "\n",
        "**Quando usar a correlação de Spearman? **\n",
        "\n",
        "Quando os dados não formam uma nuvem comportada\n",
        "Quando há uma relação crescente ou decrescente num formato de curva\n",
        "Quando os dados não pertencem à uma escala de medida padrão, mas existe uma ordenação clara\n",
        "\n",
        "**Como interpretar a correlação de Spearman? **\n",
        "\n",
        "O coeficiente de correlação de Spearman varia entre -1 e 1\n",
        "Quanto mais próximo dos extremos (-1 ou 1), maior é a força da correlação\n",
        "Valores próximos de 0 implicam em correlações mais fracas ou inexistentes\n",
        "\n",
        "**Vantagens da correlação de Spearman**\n",
        "\n",
        "Não é sensível a assimetrias na distribuição, nem à presença de outliers\n",
        "Não exige que os dados provenham de duas populações normais\n",
        "É mais adequada para analisar relações não lineares"
      ],
      "metadata": {
        "id": "G-_VyYxsPTQN"
      }
    },
    {
      "cell_type": "code",
      "source": [
        "# importar as bibliotecas\n",
        "import pandas as pd\n",
        "import matplotlib.pyplot as plt\n",
        "import seaborn as sns\n",
        "import numpy as np\n",
        "import scipy.stats as stats\n",
        "import sklearn.metrics as sklm"
      ],
      "metadata": {
        "id": "aXAy_pqdP5IQ"
      },
      "execution_count": null,
      "outputs": []
    },
    {
      "cell_type": "code",
      "source": [
        "# Endereço do arquivo com a base de dados\n",
        "arquivo = 'url do seu banco de dados'\n",
        "\n",
        "# Ler o arquivo - sem a primeira coluna\n",
        "dados = pd.read_excel(arquivo)\n",
        "dados.info()"
      ],
      "metadata": {
        "id": "XvroCWNDQJrL"
      },
      "execution_count": null,
      "outputs": []
    },
    {
      "cell_type": "markdown",
      "source": [
        "coluna1 é uma variavel e coluna 2 é outra variavel"
      ],
      "metadata": {
        "id": "aDcLJKxWQg9h"
      }
    },
    {
      "cell_type": "code",
      "source": [
        "# Selecionar os nomes das variáveis (IG_PEDIATRA, DURACAO_INT)\n",
        "varNumericaX = 'coluna1'\n",
        "varNumericaY = 'coluna2'\n",
        "\n",
        "# 1º Filtrar registros que sem nulos nas duas colunas\n",
        "dados2 = dados.dropna(how = 'any', subset=[varNumericaX, varNumericaY])\n",
        "\n",
        "# 2º Definição das variáveis\n",
        "X = dados2[varNumericaX].values\n",
        "Y = dados2[varNumericaY].values\n",
        "\n",
        "print(X)\n",
        "print(Y)"
      ],
      "metadata": {
        "id": "0SHbkUSoQRAK"
      },
      "execution_count": null,
      "outputs": []
    },
    {
      "cell_type": "code",
      "source": [
        "# 1º ETAPA - Correlação de Spearman - Para distribuições assimétricas\n",
        "# H0 não existe correlação entre as variáveis\n",
        "\n",
        "r, p = stats.spearmanr(X, Y)\n",
        "\n",
        "print('Teste de Correlação de Spearman')\n",
        "print('Spearman r:', r.round(3))\n",
        "print('p-value:', p.round(3))\n",
        "\n",
        "# interpretação\n",
        "if p <= 0.05:\n",
        "    print('Rejeita H0 = Existe correlação!')\n",
        "else:\n",
        "    print('Aceita H0 = Não existe correlação!')\n",
        "\n",
        "print()\n",
        "\n",
        "# _______________________________________________________________________________________\n",
        "# 2º ETAPA - Estatística descritiva - Análise Gráfica\n",
        "sns.regplot(data=dados2, x=varNumericaX, y=varNumericaY)"
      ],
      "metadata": {
        "id": "NHF-pLSaQoux"
      },
      "execution_count": null,
      "outputs": []
    }
  ]
}