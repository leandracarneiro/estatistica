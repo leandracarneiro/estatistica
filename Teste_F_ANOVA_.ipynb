{
  "nbformat": 4,
  "nbformat_minor": 0,
  "metadata": {
    "colab": {
      "provenance": [],
      "authorship_tag": "ABX9TyOu1xT9Sy6PN20f1tt18qxW",
      "include_colab_link": true
    },
    "kernelspec": {
      "name": "python3",
      "display_name": "Python 3"
    },
    "language_info": {
      "name": "python"
    }
  },
  "cells": [
    {
      "cell_type": "markdown",
      "metadata": {
        "id": "view-in-github",
        "colab_type": "text"
      },
      "source": [
        "<a href=\"https://colab.research.google.com/github/leandracarneiro/estatistica/blob/main/Teste_F_ANOVA_.ipynb\" target=\"_parent\"><img src=\"https://colab.research.google.com/assets/colab-badge.svg\" alt=\"Open In Colab\"/></a>"
      ]
    },
    {
      "cell_type": "markdown",
      "source": [
        "# **Teste F - ANOVA - Análise de variâncias - Variáveis independentes**\n",
        "Três ou mais médias - Exemplo: Prematuro, Termo-precoce, Termo"
      ],
      "metadata": {
        "id": "XY5fpA0OYf6Q"
      }
    },
    {
      "cell_type": "markdown",
      "source": [
        "O teste F é uma estatística de teste que calcula a razão entre duas variâncias, sendo utilizado na análise de variância (ANOVA). A ANOVA é um teste estatístico que compara as médias de dois ou mais grupos.\n",
        "\n",
        "## **O que é o teste F?**\n",
        "\n",
        "O teste F é um método estatístico que verifica se duas variâncias são iguais ou diferentes.\n",
        "\n",
        "O teste F é usado para determinar se as médias de três ou mais grupos são diferentes.\n",
        "\n",
        "O teste F calcula a razão entre o quadrado médio do tratamento e do resíduo.\n",
        "\n",
        "## **Como interpretar o teste F?**\n",
        "\n",
        "Um valor F elevado sugere que há uma diferença significativa entre os grupos analisados.\n",
        "\n",
        "Um F-Valor próximo de 1 indica que as variâncias são semelhantes.\n",
        "\n",
        "Para saber se o valor de F é alto o suficiente para considerar os tratamentos como diferentes estatisticamente, é preciso considerar a distribuição de probabilidade da distribuição F.\n",
        "\n",
        "## **Quando usar o teste ANOVA?**\n",
        "\n",
        "O teste ANOVA é popular na pesquisa científica para avaliar experimentos."
      ],
      "metadata": {
        "id": "zf4UPb-cah-x"
      }
    },
    {
      "cell_type": "code",
      "source": [],
      "metadata": {
        "id": "uPB18XMratNY"
      },
      "execution_count": null,
      "outputs": []
    },
    {
      "cell_type": "code",
      "source": [
        "# importar as bibliotecas\n",
        "import pandas as pd\n",
        "import matplotlib.pyplot as plt\n",
        "import seaborn as sns\n",
        "import numpy as np\n",
        "import scipy.stats as stats\n",
        "import statsmodels.stats.multicomp as stsmodels\n",
        "from statsmodels.stats.multicomp import pairwise_tukeyhsd\n",
        "from statsmodels.stats.anova import AnovaRM"
      ],
      "metadata": {
        "id": "MB-IztkPQ4xa"
      },
      "execution_count": null,
      "outputs": []
    },
    {
      "cell_type": "code",
      "source": [
        "# caso a biblioteca scipy não esteja no servidor da Google\n",
        "# instalar ela com o comando !pip (somente se der algum erro no bloco de cima)\n",
        "\n",
        "# !pip install scipy"
      ],
      "metadata": {
        "id": "1WxaEvKvhMAJ"
      },
      "execution_count": null,
      "outputs": []
    },
    {
      "cell_type": "code",
      "source": [
        "# Endereço do arquivo com a base de dados\n",
        "arquivo = 'sua url do seu banco de dados'\n",
        "\n",
        "# Ler o arquivo\n",
        "dados = pd.read_excel(arquivo)\n",
        "dados"
      ],
      "metadata": {
        "id": "hSrHuTzkTvTi"
      },
      "execution_count": null,
      "outputs": []
    },
    {
      "cell_type": "markdown",
      "source": [
        "# **três ou mais médias**\n",
        "\n",
        "\n",
        "\n",
        "**Os pressupostos básicos da análise de variância são:**\n",
        "\n",
        "\n",
        "As amostras são aleatórias e independentes.\n",
        "\n",
        "As populações têm distribuição normal (o teste é paramétrico).\n",
        "\n",
        "As variâncias populacionais são iguais.\n",
        "\n",
        "Exemplo 1: a média dos valores do equipamento A é igual entre os RNs prematuros, termo-precoce e termo?\n",
        "\n",
        "Importante: em pelo menos uma das três distribuições deve ter distribuição normal.\n",
        "\n",
        "Ex:\n",
        "**variavel numerica** nº de carros\n",
        "\n",
        "**variavel categórica:**  marca(fiat, honda, chevrolet)\n"
      ],
      "metadata": {
        "id": "fPdtDmUlbEYD"
      }
    },
    {
      "cell_type": "code",
      "source": [
        "# Selecionar os nomes das variáveis  (carros, marca)\n",
        "varNumerica = 'carros'\n",
        "varCategorica = 'marca'\n",
        "\n",
        "# Filtrar registros que sem nulos nas duas colunas\n",
        "dados2 = dados.dropna(how = 'any', subset=[varNumerica, varCategorica])\n",
        "\n",
        "# Separar os dois grupos pela categoria, e selecionar só a coluna numérica desejada\n",
        "grupo1 = dados2[(dados2.marca == 'honda')].carros\n",
        "grupo2 = dados2[(dados2.marca == 'fiat')].carros\n",
        "grupo3 = dados2[(dados2.marca == 'chevrolet')].carros\n",
        "\n",
        "ordem = ['honda', 'chevrolet', 'fiat']"
      ],
      "metadata": {
        "id": "n-ra7ez7Z2I0"
      },
      "execution_count": null,
      "outputs": []
    },
    {
      "cell_type": "code",
      "source": [
        "# 1ª ETAPA - Estatística descritiva\n",
        "\n",
        "# Estatística descritiva - Análise dos valores médios\n",
        "mediaG1 = grupo1.mean()\n",
        "mediaG2 = grupo2.mean()\n",
        "mediaG3 = grupo3.mean()\n",
        "\n",
        "print(f'Média do Grupo 1: {mediaG1:.3f}')\n",
        "print(f'Média do Grupo 2: {mediaG2:.3f}')\n",
        "print(f'Média do Grupo 3: {mediaG3:.3f}')\n",
        "print()\n",
        "\n",
        "# ___________________________________________________________________\n",
        "# 2º ETAPA - Realizar o teste ANOVA - 3+ variáveis\n",
        "\n",
        "# Teste F - ANOVA\n",
        "# H0 = As médias são iguais\n",
        "resultado = stats.f_oneway(grupo1, grupo2, grupo3)\n",
        "print('Teste-F ANOVA')\n",
        "print(f'p-value: {resultado.pvalue:.3f}')\n",
        "\n",
        "# interpretação\n",
        "if resultado.pvalue <= 0.05:\n",
        "    print('Rejeita H0 => As médias são diferentes!')\n",
        "else:\n",
        "    print('Aceita H0 => As médias são iguais!')\n",
        "\n",
        "print()\n",
        "# Estatística descritiva - Análise Gráfica\n",
        "# Boxplot agrupado\n",
        "ordem = ['Prematuro', 'Termo-precoce', 'Termo']\n",
        "sns.boxplot(data=dados2, y=varNumerica, x=varCategorica, linewidth=1, order=ordem)\n",
        "\n",
        "# Estatística descritiva - Análise Gráfica\n",
        "grafico = sns.FacetGrid(dados, col=varCategorica, col_order=ordem)\n",
        "grafico.map(sns.histplot, varNumerica)"
      ],
      "metadata": {
        "id": "uO4jl-qvbmsV"
      },
      "execution_count": null,
      "outputs": []
    },
    {
      "cell_type": "markdown",
      "source": [
        "**IMPORTANTE:** No exemplo acima as médias são diferentes, então precisamos investigar onde está diferença - Teste de Tukey-HSD"
      ],
      "metadata": {
        "id": "o3RqtsKy2ag-"
      }
    },
    {
      "cell_type": "markdown",
      "source": [
        "O Teste de Tukey-HSD (Honest Significant Difference) é uma técnica estatística que compara as médias de diferentes grupos. É usado para identificar quais grupos são significativamente diferentes entre si.\n",
        "\n",
        "# **Quando é usado**\n",
        "\n",
        "É frequentemente usado após a realização de uma ANOVA (Análise de Variância)\n",
        "\n",
        "É um teste exato quando os tamanhos amostrais dos grupos são iguais\n",
        "\n",
        "Quando os tamanhos amostrais dos grupos são diferentes, o Teste de Tukey é alterado e passa a ser chamado de Tukey-Kramer\n",
        "\n",
        "# ** Como é interpretado**\n",
        "\n",
        "Quando letras diferentes aparecem em frente a duas médias, a diferença entre essas médias é estatisticamente significante\n",
        "\n",
        "Quando a mesma letra aparece em frente a duas médias, a diferença entre essas médias não é estatisticamente significante\n",
        "\n"
      ],
      "metadata": {
        "id": "IFr7Bwe2dn9N"
      }
    },
    {
      "cell_type": "code",
      "source": [
        "# ___________________________________________________________________\n",
        "# 3º ETAPA - Se houver diferença, aplicar teste TUKEY para saber em qual combinação está a diferença\n",
        "\n",
        "# Teste de Tukey-HSD\n",
        "# H0: as médias são iguais (entre os sub-grupos analisados)\n",
        "\n",
        "resultado = stsmodels.pairwise_tukeyhsd(endog=dados2[varNumerica], groups=dados2[varCategorica], alpha=0.05)\n",
        "\n",
        "# resultados\n",
        "print(resultado)"
      ],
      "metadata": {
        "id": "gicgeA2Vdf8n"
      },
      "execution_count": null,
      "outputs": []
    },
    {
      "cell_type": "markdown",
      "source": [
        "Na tabela de resultado do Tukey o p-value é mostrado na coluna \"p-adj\" e ao final a tabela em REJECT indica se rejeita ou aceita a hipótese nula (de que as médias são iguais).\n",
        "\n",
        "Saiba mais - Tukey: https://www.statsmodels.org/dev/generated/statsmodels.sandbox.stats.multicomp.MultiComparison.html"
      ],
      "metadata": {
        "id": "kTe28LBQd8ZM"
      }
    },
    {
      "cell_type": "code",
      "source": [
        "# 1ª ETAPA - Estatística descritiva\n",
        "\n",
        "# Estatística descritiva - Análise dos valores médios\n",
        "mediaG1 = grupo1.mean()\n",
        "mediaG2 = grupo2.mean()\n",
        "mediaG3 = grupo3.mean()\n",
        "\n",
        "print(f'Média do Grupo 1: {mediaG1:.3f}')\n",
        "print(f'Média do Grupo 2: {mediaG2:.3f}')\n",
        "print(f'Média do Grupo 3: {mediaG3:.3f}')\n",
        "print()\n",
        "\n",
        "# ___________________________________________________________________\n",
        "# 2º ETAPA - Realizar o teste ANOVA - 3+ variáveis\n",
        "\n",
        "# Teste F - ANOVA\n",
        "# H0 = As médias são iguais\n",
        "resultado = stats.f_oneway(grupo1, grupo2, grupo3)\n",
        "print('Teste-F ANOVA')\n",
        "print(f'p-value: {resultado.pvalue:.3f}')\n",
        "\n",
        "# interpretação\n",
        "if resultado.pvalue <= 0.05:\n",
        "    print('Rejeita H0 => As médias são diferentes!')\n",
        "else:\n",
        "    print('Aceita H0 => As médias são iguais!')\n",
        "print()\n",
        "\n",
        "# ___________________________________________________________________\n",
        "# 3º ETAPA - Se houver diferença, aplicar teste TUKEY para saber em qual combinação está a diferença\n",
        "\n",
        "# Teste de Tukey-HSD\n",
        "# H0: as médias são iguais (entre os sub-grupos analisados)\n",
        "\n",
        "resultado = stsmodels.pairwise_tukeyhsd(endog=dados2[varNumerica], groups=dados2[varCategorica], alpha=0.05)\n",
        "print(resultado)\n",
        "\n",
        "# _____________________________________________________________________\n",
        "print()\n",
        "# Estatística descritiva - Análise Gráfica\n",
        "# Boxplot agrupado\n",
        "sns.boxplot(data=dados2, y=varNumerica, x=varCategorica, linewidth=1, order=ordem)\n",
        "\n",
        "# Estatística descritiva - Análise Gráfica\n",
        "grafico = sns.FacetGrid(dados, col=varCategorica, col_order=ordem)\n",
        "grafico.map(sns.histplot, varNumerica)"
      ],
      "metadata": {
        "id": "jUPHRfNNeKLq"
      },
      "execution_count": null,
      "outputs": []
    }
  ]
}