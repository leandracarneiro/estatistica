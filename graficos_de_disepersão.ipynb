{
  "nbformat": 4,
  "nbformat_minor": 0,
  "metadata": {
    "colab": {
      "provenance": [],
      "authorship_tag": "ABX9TyN42SAy8BoriDCSh0iVHMz+",
      "include_colab_link": true
    },
    "kernelspec": {
      "name": "python3",
      "display_name": "Python 3"
    },
    "language_info": {
      "name": "python"
    }
  },
  "cells": [
    {
      "cell_type": "markdown",
      "metadata": {
        "id": "view-in-github",
        "colab_type": "text"
      },
      "source": [
        "<a href=\"https://colab.research.google.com/github/leandracarneiro/estatistica/blob/main/graficos_de_disepers%C3%A3o.ipynb\" target=\"_parent\"><img src=\"https://colab.research.google.com/assets/colab-badge.svg\" alt=\"Open In Colab\"/></a>"
      ]
    },
    {
      "cell_type": "code",
      "execution_count": null,
      "metadata": {
        "id": "ZqJisBt09sjV"
      },
      "outputs": [],
      "source": [
        "# importar as bibliotecas\n",
        "import pandas as pd\n",
        "import matplotlib.pyplot as plt\n",
        "import seaborn as sns\n",
        "import numpy as np\n",
        "import scipy.stats as stats\n",
        "import sklearn.metrics as sklm"
      ]
    },
    {
      "cell_type": "code",
      "source": [
        "# Endereço do arquivo com a base de dados\n",
        "arquivo = 'url'\n",
        "\n",
        "# Ler o arquivo - sem a primeira coluna\n",
        "dados = pd.read_excel(arquivo)\n",
        "dados.info()"
      ],
      "metadata": {
        "id": "g9n91fO4-MRW"
      },
      "execution_count": null,
      "outputs": []
    },
    {
      "cell_type": "markdown",
      "source": [
        "### **Gráficos de dispersão**\n",
        "\n",
        "*   Para duas variáveis numéricas correlacionadas, coluna1 e coluna2\n",
        "\n",
        "obs: coluna1 é uma variavel, coluna2 é oura variavel, etc\n",
        "\n",
        "\n",
        "\n"
      ],
      "metadata": {
        "id": "Q5kVV_H4-wtW"
      }
    },
    {
      "cell_type": "markdown",
      "source": [],
      "metadata": {
        "id": "6NbXVwKwAShj"
      }
    },
    {
      "cell_type": "code",
      "source": [
        "# Gráfico de dispersão, variaveis de tempo no x(variabvel preditora, que vem antes)\n",
        "sns.scatterplot(data=dados, x=\"coluna1\", y=\"coluna2\")"
      ],
      "metadata": {
        "id": "qge7VI5l-Shn"
      },
      "execution_count": null,
      "outputs": []
    },
    {
      "cell_type": "markdown",
      "source": [
        "Gráfico de dispersão para observar a correlação entre a coluna1 e coluna2 agrupado pela coluna3"
      ],
      "metadata": {
        "id": "PcPSdLxU-2kJ"
      }
    },
    {
      "cell_type": "code",
      "source": [
        "# Gráfico de dispersão, hue faz divisão de categoria\n",
        "sns.scatterplot(data=dados, x=\"coluna1\", y=\"coluna2\", hue=\"coluna3\")"
      ],
      "metadata": {
        "id": "ylAVckh8-dYU"
      },
      "execution_count": null,
      "outputs": []
    },
    {
      "cell_type": "markdown",
      "source": [
        "Gráfico de dispersão para observar a correlação entre a coluna1 e a coluna2 agrupado por coluna3 (que tem 4 classificações).\n",
        "\n",
        "por exemplo: variáveis estações_do_ano (primavera, verão, outono, inverno)"
      ],
      "metadata": {
        "id": "-lQv3RAqA5j4"
      }
    },
    {
      "cell_type": "code",
      "source": [
        "# Gráfico de dispersão\n",
        "sns.scatterplot(data=dados, x=\"coluna1\", y=\"coluna2\", hue=\"coluna3\")"
      ],
      "metadata": {
        "id": "ZvsxNpsiBGHl"
      },
      "execution_count": null,
      "outputs": []
    },
    {
      "cell_type": "markdown",
      "source": [
        "Como refazer o exemplo acima e colocar a legenda em ordem (primavera, verão, outono, inverno) ?\n",
        "\n",
        "Dica: Consulte o site da Seaborn e as especificações dessa função (sns.scatterplot)"
      ],
      "metadata": {
        "id": "iqo47zoDCD3e"
      }
    },
    {
      "cell_type": "code",
      "source": [
        "# Gráfico de dispersão para observar a correlação entre\n",
        "# coluna1 e coluna2\n",
        "# agrupado por coluna3 e suas caategorias primavera, verão, outono, inverno\n",
        "\n",
        "# criar uma variável que contenha a ordem desejada\n",
        "ordem = ['primavera', 'verao', 'outono', 'inverno']\n",
        "\n",
        "# Gráfico de dispersão, hue order é  catgorização pela ordem que definirmos acima\n",
        "sns.scatterplot(data=dados, x=\"coluna1\", y=\"coluna2\", hue=\"coluna3\", hue_order=ordem)"
      ],
      "metadata": {
        "id": "pG2Ml4DCCRFh"
      },
      "execution_count": null,
      "outputs": []
    },
    {
      "cell_type": "markdown",
      "source": [
        "### **Gráficos de dispersão com linhas de regressão**"
      ],
      "metadata": {
        "id": "AuRe-39QC4Y3"
      }
    },
    {
      "cell_type": "markdown",
      "source": [
        "Gráfico de dispersão com linha de tendência para observar a correlação entre a coluna1 e coluna2"
      ],
      "metadata": {
        "id": "FsimvfRpEn0D"
      }
    },
    {
      "cell_type": "code",
      "source": [
        "# Gráfico de dispersão com linha de tendência (regressão)\n",
        "# As faixas com transparências são o intervalo de confiança (por padrão já vem com 95%)\n",
        "\n",
        "sns.regplot(data=dados, x='coluna1', y='coluna2')"
      ],
      "metadata": {
        "id": "XcxQPMaQE2Ri"
      },
      "execution_count": null,
      "outputs": []
    },
    {
      "cell_type": "markdown",
      "source": [
        "### **Gráficos de dispersão com linhas de regressão para cada sub-grupo**"
      ],
      "metadata": {
        "id": "533sB979FF8w"
      }
    },
    {
      "cell_type": "markdown",
      "source": [
        " Gráfico de dispersão com linha de tendência para observar a correlação entre a coluna1 e coluna2 agrupados por coluna3 (primavera, verão)"
      ],
      "metadata": {
        "id": "ApYpHg5rFJO3"
      }
    },
    {
      "cell_type": "code",
      "source": [
        "# lmplot cria um gráfico scatter com linha de regressão para cada grupo\n",
        "\n",
        "g = sns.lmplot(data=dados, x=\"coluna1\", y=\"coluna2\", hue=\"primavera\")\n",
        "\n",
        "# definir os labels dos eixos\n",
        "g.set_axis_labels(\"colunaa1\", \"coluna2\") #muda os labels do  e do y"
      ],
      "metadata": {
        "id": "QpEBHg61Fc0s"
      },
      "execution_count": null,
      "outputs": []
    },
    {
      "cell_type": "markdown",
      "source": [
        "Gráfico de dispersão com linha de tendência para observar a correlação entre a coluna1 e o coluna2 agrupados por coluna3 ( quem tem valores 'sim' e 'não')"
      ],
      "metadata": {
        "id": "jG3kJMfWF9Hd"
      }
    },
    {
      "cell_type": "code",
      "source": [
        "# lmplot cria um gráfico scatter com linha de regressão para cada grupo\n",
        "\n",
        "g = sns.lmplot(data=dados, x=\"coluna1\", y=\"coluna2\", hue=\"coluna3\")\n",
        "\n",
        "# definir os labels dos eixos\n",
        "g.set_axis_labels(\"coluna1\", \"coluna2\")"
      ],
      "metadata": {
        "id": "mbevUWlAGL79"
      },
      "execution_count": null,
      "outputs": []
    },
    {
      "cell_type": "code",
      "source": [
        "Saiba mais: https://seaborn.pydata.org/generated/seaborn.lmplot.html?highlight=lmplot"
      ],
      "metadata": {
        "id": "bVaPgrbpGdIu"
      },
      "execution_count": null,
      "outputs": []
    }
  ]
}