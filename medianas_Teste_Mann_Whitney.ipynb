{
  "nbformat": 4,
  "nbformat_minor": 0,
  "metadata": {
    "colab": {
      "provenance": [],
      "authorship_tag": "ABX9TyPDkeKY2tUeoZnhsuhlO0tR",
      "include_colab_link": true
    },
    "kernelspec": {
      "name": "python3",
      "display_name": "Python 3"
    },
    "language_info": {
      "name": "python"
    }
  },
  "cells": [
    {
      "cell_type": "markdown",
      "metadata": {
        "id": "view-in-github",
        "colab_type": "text"
      },
      "source": [
        "<a href=\"https://colab.research.google.com/github/leandracarneiro/estatistica/blob/main/medianas_Teste_Mann_Whitney.ipynb\" target=\"_parent\"><img src=\"https://colab.research.google.com/assets/colab-badge.svg\" alt=\"Open In Colab\"/></a>"
      ]
    },
    {
      "cell_type": "markdown",
      "source": [
        "## **Teste Mann-Whitney - Variáveis independentes - duas medianas**"
      ],
      "metadata": {
        "id": "IEIh62hfXW5Y"
      }
    },
    {
      "cell_type": "markdown",
      "source": [],
      "metadata": {
        "id": "ndfHAby6X0Qp"
      }
    },
    {
      "cell_type": "markdown",
      "source": [
        "O teste de Mann-Whitney é um teste não paramétrico que compara duas médias amostrais para verificar se são iguais ou diferentes. É também conhecido como teste de Mann-Whitney-Wilcoxon ou teste de soma de postos de Wilcoxon.\n",
        "\n",
        "**Quando usar**\n",
        "\n",
        "Para comparar diferenças entre duas medidas independentes\n",
        "\n",
        "Para testar se uma média populacional desconhecida é diferente de um valor específico\n",
        "\n",
        "Para determinar se as observações de uma população tendem a ser maiores ou menores que outra população\n",
        "\n",
        "**Como funciona**\n",
        "\n",
        "Compara duas médias amostrais provenientes da mesma população\n",
        "Usa os postos como desfecho do modelo estatístico\n",
        "\n",
        "É ideal para dados ordinais ou intervalares que não atendem aos pressupostos de normalidade exigidos por testes paramétricos\n",
        "\n",
        "**Exemplos de aplicação**\n",
        "\n",
        "Avaliar se há diferenças nos níveis de ansiedade entre indivíduos que praticam yoga e aqueles que não praticam\n",
        "Determinar se o número médio de meses que a tinta persiste na rodovia difere entre duas marcas"
      ],
      "metadata": {
        "id": "XCgYJd8FXbXX"
      }
    },
    {
      "cell_type": "code",
      "execution_count": null,
      "metadata": {
        "id": "QT9Vjl6xU2qB"
      },
      "outputs": [],
      "source": [
        "# importar as bibliotecas\n",
        "import pandas as pd\n",
        "import matplotlib.pyplot as plt\n",
        "import seaborn as sns\n",
        "import numpy as np\n",
        "import scipy.stats as stats\n",
        "import statsmodels.stats.multicomp as stsmodels"
      ]
    },
    {
      "cell_type": "code",
      "source": [
        "# caso a biblioteca scipy não esteja no servidor da Google, instalar ela com o comando !pip (somente se der algum erro no bloco de cima)\n",
        "# !pip install scipy"
      ],
      "metadata": {
        "id": "qG1n9y9fWK4k"
      },
      "execution_count": null,
      "outputs": []
    },
    {
      "cell_type": "code",
      "source": [
        "# instalar no servidor uma biblioteca específica pra usar o teste de DUNN\n",
        "!pip install scikit-posthocs"
      ],
      "metadata": {
        "id": "YpqLIq40WN2k"
      },
      "execution_count": null,
      "outputs": []
    },
    {
      "cell_type": "code",
      "source": [
        "# importando a bilioteca\n",
        "import scikit_posthocs as sp"
      ],
      "metadata": {
        "id": "fjKnHWUnWSEZ"
      },
      "execution_count": null,
      "outputs": []
    },
    {
      "cell_type": "code",
      "source": [
        "# Endereço do arquivo com a base de dados\n",
        "arquivo = 'url do seu banco de dados'\n",
        "\n",
        "# Ler o arquivo - sem a primeira coluna\n",
        "dados = pd.read_excel(arquivo)\n",
        "dados.info()"
      ],
      "metadata": {
        "id": "4ew8zhpRWUXN"
      },
      "execution_count": null,
      "outputs": []
    },
    {
      "cell_type": "markdown",
      "source": [
        "A mediana da variavel coluna1 é a mesma entre sim e não da coluna2?"
      ],
      "metadata": {
        "id": "ghk-ji0IXCN6"
      }
    },
    {
      "cell_type": "code",
      "source": [
        "# Selecionar os nomes das variáveis  (coluna1, coluna2)\n",
        "varNumerica = 'coluna1'\n",
        "varCategorica = 'coluna2'\n",
        "\n",
        "# Filtrar registros que tem nulos nas duas colunas, remove o registro inteiro  tem nulos\n",
        "dados2 = dados.dropna(how = 'any', subset=[varNumerica, varCategorica])\n",
        "\n",
        "# Separar os dois grupos pela categoria, e selecionar só a coluna numérica desejada\n",
        "grupo1 = dados2[(dados2.coluna2 == 'Sim')].coluna1 #filtro no dados 2 na coluna2 sim no coluna1\n",
        "grupo2 = dados2[(dados2.coluna2 == 'Não')].coluna1"
      ],
      "metadata": {
        "id": "OIQ0-MWbWXY4"
      },
      "execution_count": null,
      "outputs": []
    },
    {
      "cell_type": "code",
      "source": [
        "# 1ª ETAPA - Estatística descritiva\n",
        "\n",
        "# Estatística descritiva - Análise dos valores medianos\n",
        "medianG1 = grupo1.median()\n",
        "medianG2 = grupo2.median()\n",
        "\n",
        "print(f'Mediana do Grupo 1: {medianG1:.1f}')  #:.1f  um casa decimal\n",
        "print(f'Mediana do Grupo 2: {medianG2:.1f}')\n",
        "print()\n",
        "\n",
        "# _______________________________________________________________________________________\n",
        "# 2º ETAPA - Realizar o teste de medianas para 2 variáveis independentes\n",
        "\n",
        "# Teste de Mann-Whitney para variáveis independentes ( testa sempre a H0: as medianas são iguais)\n",
        "# H0 = as medianas são iguais\n",
        "\n",
        "resultado = stats.mstats.mannwhitneyu(grupo1, grupo2)\n",
        "print('Teste de Mann-Whitney - 2 medianas')\n",
        "print(f'p-value: {resultado.pvalue:.3f}')\n",
        "\n",
        "## interpretação\n",
        "if resultado.pvalue <= 0.05:\n",
        "    print('Rejeita H0 => As medianas são diferentes!')\n",
        "else:\n",
        "    print('Aceita H0 => As medianas são iguais!')\n",
        "\n",
        "# _______________________________________________________________________________________\n",
        "print()\n",
        "## Estatística descritiva - Análise Gráfica -> Mostrar 2 histogramas\n",
        "\n",
        "fig, (ax1, ax2) = plt.subplots(1, 2, figsize=(12, 4))\n",
        "sns.histplot(grupo1, ax=ax1, binwidth=1)\n",
        "sns.histplot(grupo2, ax=ax2, binwidth=1)\n",
        "plt.tight_layout()"
      ],
      "metadata": {
        "id": "5auzOgT4WxWD"
      },
      "execution_count": null,
      "outputs": []
    },
    {
      "cell_type": "markdown",
      "source": [
        "Saiba mais: https://docs.scipy.org/doc/scipy/reference/generated/scipy.stats.mstats.mannwhitneyu.html"
      ],
      "metadata": {
        "id": "I8XMq7z4X8T5"
      }
    }
  ]
}