{
  "nbformat": 4,
  "nbformat_minor": 0,
  "metadata": {
    "colab": {
      "provenance": [],
      "authorship_tag": "ABX9TyPd9vCA9OgHWkwDMRU6vfJL",
      "include_colab_link": true
    },
    "kernelspec": {
      "name": "python3",
      "display_name": "Python 3"
    },
    "language_info": {
      "name": "python"
    }
  },
  "cells": [
    {
      "cell_type": "markdown",
      "metadata": {
        "id": "view-in-github",
        "colab_type": "text"
      },
      "source": [
        "<a href=\"https://colab.research.google.com/github/leandracarneiro/estatistica/blob/main/medianas_Teste_Kruskal_Wallis.ipynb\" target=\"_parent\"><img src=\"https://colab.research.google.com/assets/colab-badge.svg\" alt=\"Open In Colab\"/></a>"
      ]
    },
    {
      "cell_type": "markdown",
      "source": [
        "### Teste Kruskal-Wallis - Variáveis independentes - três ou mais medianas"
      ],
      "metadata": {
        "id": "w6ucNubxYUhQ"
      }
    },
    {
      "cell_type": "markdown",
      "source": [
        "O teste de Kruskal-Wallis é um teste estatístico não paramétrico que compara três ou mais grupos. Ele é usado para verificar se há diferença entre as medianas dos grupos.\n",
        "\n",
        "**Como funciona **\n",
        "\n",
        "Converte os valores numéricos em postos\n",
        "\n",
        "Agrupa os postos em um único conjunto de dados\n",
        "\n",
        "Compara a classificação média de cada grupo\n",
        "\n",
        "Calcula uma estatística de teste e compara com um ponto de corte da distribuição\n",
        "\n",
        "**Hipóteses de teste**\n",
        "\n",
        "*   H0: As medianas populacionais são iguais\n",
        "*   H1: As medianas populacionais não são iguais\n",
        "\n",
        "\n",
        "\n",
        "Quando rejeitar a hipótese nula\n",
        "\n",
        "Se o valor-p ≤ 0,05, então a hipótese nula pode ser rejeitada.\n",
        "\n",
        "\n",
        "\n",
        "**Aplicações**\n",
        "\n",
        "O teste de Kruskal-Wallis pode ser usado para comparar, por exemplo, os níveis de ansiedade entre três níveis de idade.\n",
        "\n",
        "**Considerações**\n",
        "\n",
        "O teste de Kruskal-Wallis é semelhante ao Teste U de Mann-Whitney, mas permite comparar mais do que apenas dois grupos."
      ],
      "metadata": {
        "id": "7woUIiPCYTBd"
      }
    },
    {
      "cell_type": "code",
      "execution_count": null,
      "metadata": {
        "id": "5kLoXDJfYKnE"
      },
      "outputs": [],
      "source": [
        "# importar as bibliotecas\n",
        "import pandas as pd\n",
        "import matplotlib.pyplot as plt\n",
        "import seaborn as sns\n",
        "import numpy as np\n",
        "import scipy.stats as stats\n",
        "import statsmodels.stats.multicomp as stsmodels"
      ]
    },
    {
      "cell_type": "code",
      "source": [
        "# caso a biblioteca scipy não esteja no servidor da Google, instalar ela com o comando !pip (somente se der algum erro no bloco de cima)\n",
        "# !pip install scipy"
      ],
      "metadata": {
        "id": "hYMx2vduY7Wr"
      },
      "execution_count": null,
      "outputs": []
    },
    {
      "cell_type": "code",
      "source": [
        "# instalar no servidor uma biblioteca específica pra usar o teste de DUNN\n",
        "!pip install scikit-posthocs"
      ],
      "metadata": {
        "id": "y1L9XM9WY78n"
      },
      "execution_count": null,
      "outputs": []
    },
    {
      "cell_type": "code",
      "source": [
        "# importando a bilioteca\n",
        "import scikit_posthocs as sp"
      ],
      "metadata": {
        "id": "C53qbJ9KY-6-"
      },
      "execution_count": null,
      "outputs": []
    },
    {
      "cell_type": "code",
      "source": [
        "# Endereço do arquivo com a base de dados\n",
        "arquivo = 'url do seu baanco de dados'\n",
        "\n",
        "# Ler o arquivo - sem a primeira coluna\n",
        "dados = pd.read_excel(arquivo)\n",
        "dados.info()"
      ],
      "metadata": {
        "id": "mJcuw0fJZC-R"
      },
      "execution_count": null,
      "outputs": []
    },
    {
      "cell_type": "markdown",
      "source": [
        ": A varivel coluna1 é a mesma entre as classes presentes na varivel (primavera, verão, inverno) coluna 2?"
      ],
      "metadata": {
        "id": "Szn2h_geZMsZ"
      }
    },
    {
      "cell_type": "code",
      "source": [
        "# Selecionar os nomes das variáveis  (coluna1, coluna2)\n",
        "varNumerica = 'coluna1'\n",
        "varCategorica = 'coluna2'\n",
        "\n",
        "# Filtrar registros que sem nulos nas duas colunas\n",
        "dados2 = dados.dropna(how = 'any', subset=[varNumerica, varCategorica])\n",
        "\n",
        "# Separar os grupos pela categoria, e selecionar só a coluna numérica desejada\n",
        "grupo1 = dados2[(dados2.coluna2 == 'primavera')].coluna1\n",
        "grupo2 = dados2[(dados2.coluna2 == 'verão')].coluna1\n",
        "grupo3 = dados2[(dados2.coluna2 == 'inverno')].coluna1"
      ],
      "metadata": {
        "id": "fv9QwjkdZc1p"
      },
      "execution_count": null,
      "outputs": []
    },
    {
      "cell_type": "code",
      "source": [
        "# 1ª ETAPA - Estatística descritiva\n",
        "\n",
        "# Estatística descritiva - Análise dos valores medianos\n",
        "medianG1 = grupo1.median()\n",
        "medianG2 = grupo2.median()\n",
        "medianG3 = grupo3.median()\n",
        "\n",
        "print(f'Mediana do Grupo 1: {medianG1:.1f}')\n",
        "print(f'Mediana do Grupo 2: {medianG2:.1f}')\n",
        "print(f'Mediana do Grupo 3: {medianG3:.1f}')\n",
        "print()\n",
        "\n",
        "# _______________________________________________________________________________________\n",
        "# 2º ETAPA - Realizar o teste de medianas para 3 ou mais variáveis independentes\n",
        "\n",
        "# 3º realizar o teste H - Kruskal-Wallis\n",
        "# H0 = as medianas são iguais\n",
        "\n",
        "# Observação: kruskal não aceita coluna do pandas diretamente, precisa usar \".values\" para pegar só valor\n",
        "\n",
        "resultado = stats.mstats.kruskal(grupo1.values, grupo2.values, grupo3.values)\n",
        "print('Teste de Kruskal-Wallis - 3+ medianas')\n",
        "print(f'p-value: {resultado.pvalue:.3f}')\n",
        "\n",
        "# interpretação\n",
        "if resultado.pvalue <= 0.05:\n",
        "    print('Rejeita H0 => As medianas são diferentes!')\n",
        "else:\n",
        "    print('Aceita H0 => As medianas são iguais!')\n",
        "\n",
        "# _______________________________________________________________________________________\n",
        "print()\n",
        "# Estatística descritiva - Análise Gráfica -> Mostrar 3 histogramas\n",
        "\n",
        "fig, (ax1, ax2, ax3) = plt.subplots(1, 3, figsize=(16, 4))\n",
        "sns.histplot(grupo1, ax=ax1, binwidth=1)\n",
        "sns.histplot(grupo2, ax=ax2, binwidth=1)\n",
        "sns.histplot(grupo3, ax=ax3, binwidth=1)\n",
        "plt.tight_layout()"
      ],
      "metadata": {
        "id": "rca_L7zUaG1u"
      },
      "execution_count": null,
      "outputs": []
    },
    {
      "cell_type": "markdown",
      "source": [
        "Saiba mais: https://docs.scipy.org/doc/scipy/reference/generated/scipy.stats.mstats.kruskalwallis.html"
      ],
      "metadata": {
        "id": "5JAIW3xYaqQm"
      }
    },
    {
      "cell_type": "markdown",
      "source": [
        "Importante: no exemplo acima existe diferença! Agora precisamos investigar onde está a diferença!\n",
        "\n",
        "### **Teste de Dunn - post hoc para o teste de Kruskal-Wallis**"
      ],
      "metadata": {
        "id": "ER4UP30xatJL"
      }
    },
    {
      "cell_type": "markdown",
      "source": [
        "A sua importância é constatada quando existe uma diferença entre três ou mais médias, e serve para averiguar quais as médias que são significativamente distintas."
      ],
      "metadata": {
        "id": "7I-N_7P3bBoA"
      }
    },
    {
      "cell_type": "code",
      "source": [
        "# criando uma lista com os 3 grupos de valores\n",
        "dados3 = [grupo1.values, grupo2.values, grupo3.values]\n",
        "\n",
        "# executar o Dunn's test usando uma correção de Bonferonni para os p-values\n",
        "# H0 = As medianas são iguais (teste de Dunn)\n",
        "resultado = sp.posthoc_dunn(dados3, p_adjust = 'bonferroni')\n",
        "print(resultado.round(3))"
      ],
      "metadata": {
        "id": "6d6todh3a4hm"
      },
      "execution_count": null,
      "outputs": []
    },
    {
      "cell_type": "markdown",
      "source": [
        "Saiba mais: https://www.statology.org/dunns-test-python/"
      ],
      "metadata": {
        "id": "XFULky6HbIMp"
      }
    }
  ]
}