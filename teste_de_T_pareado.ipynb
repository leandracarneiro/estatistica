{
  "nbformat": 4,
  "nbformat_minor": 0,
  "metadata": {
    "colab": {
      "provenance": [],
      "authorship_tag": "ABX9TyPIgDQ80oUCkyusi0Ihp4Dh",
      "include_colab_link": true
    },
    "kernelspec": {
      "name": "python3",
      "display_name": "Python 3"
    },
    "language_info": {
      "name": "python"
    }
  },
  "cells": [
    {
      "cell_type": "markdown",
      "metadata": {
        "id": "view-in-github",
        "colab_type": "text"
      },
      "source": [
        "<a href=\"https://colab.research.google.com/github/leandracarneiro/estatistica/blob/main/teste_de_T_pareado.ipynb\" target=\"_parent\"><img src=\"https://colab.research.google.com/assets/colab-badge.svg\" alt=\"Open In Colab\"/></a>"
      ]
    },
    {
      "cell_type": "markdown",
      "source": [
        "O teste t pareado é uma análise estatística que compara as médias de duas amostras pareadas. É usado para verificar se a diferença entre as médias é diferente de zero ou de um valor alvo.\n",
        "\n",
        "## **Quando usar o teste t pareado?**\n",
        "Quando se quer comparar o mesmo conjunto de itens medidos em condições diferentes\n",
        "\n",
        "Quando se quer comparar as diferenças entre dois tratamentos aplicados ao mesmo assunto\n",
        "\n",
        "Quando se quer verificar se houve diferença entre o peso antes e depois de uma dieta\n",
        "\n",
        "## **Como realizar o teste t pareado? **\n",
        "\n",
        "Escolher Estat > Estatísticas Básicas > Teste t pareado\n",
        "\n",
        "Comparar o valor-t a valores críticos da distribuição-t\n",
        "\n",
        "Comparar o valor-p do teste\n",
        "\n",
        "## Como interpretar os resultados?\n",
        "\n",
        "Se o valor p for significativamente pequeno, há evidência forte para não aceitar a hipótese nula\n",
        "\n",
        "Se o valor absoluto do valor t for maior do que o valor crítico, rejeita-se a hipótese nula\n",
        "\n",
        "## **O que são amostras pareadas? **\n",
        "\n",
        "São duas amostras em que cada observação da primeira amostra é pareada com uma observação da segunda amostra"
      ],
      "metadata": {
        "id": "nJ7gqINOXs5F"
      }
    },
    {
      "cell_type": "code",
      "source": [
        "# importar as bibliotecas\n",
        "import pandas as pd\n",
        "import matplotlib.pyplot as plt\n",
        "import seaborn as sns\n",
        "import numpy as np\n",
        "import scipy.stats as stats\n",
        "import statsmodels.stats.multicomp as stsmodels\n",
        "from statsmodels.stats.multicomp import pairwise_tukeyhsd\n",
        "from statsmodels.stats.anova import AnovaRM"
      ],
      "metadata": {
        "id": "MB-IztkPQ4xa"
      },
      "execution_count": null,
      "outputs": []
    },
    {
      "cell_type": "code",
      "source": [
        "# caso a biblioteca scipy não esteja no servidor da Google\n",
        "# instalar ela com o comando !pip (somente se der algum erro no bloco de cima)\n",
        "\n",
        "# !pip install scipy"
      ],
      "metadata": {
        "id": "1WxaEvKvhMAJ"
      },
      "execution_count": null,
      "outputs": []
    },
    {
      "cell_type": "code",
      "source": [
        "# Endereço do arquivo com a base de dados\n",
        "arquivo = 'url do seu banco de ddos'\n",
        "\n",
        "# Ler o arquivo\n",
        "dados = pd.read_excel(arquivo)\n",
        "dados"
      ],
      "metadata": {
        "id": "hSrHuTzkTvTi"
      },
      "execution_count": null,
      "outputs": []
    },
    {
      "cell_type": "markdown",
      "source": [
        "Exemplo 1: a média do peso do ultrassom é igual a média do peso ao nascer?\n",
        "\n",
        "variáveis pareadas/relacionadas para o mesmo indivíduo (antes e após)"
      ],
      "metadata": {
        "id": "a7P5POLTVwKy"
      }
    },
    {
      "cell_type": "code",
      "execution_count": null,
      "metadata": {
        "id": "FwFM1VgWjJNK"
      },
      "outputs": [],
      "source": [
        "# Selecionar os nomes das variáveis  (PESO_US, PESO_NASCER)\n",
        "varNumerica1 = 'PESO_US'\n",
        "varNumerica2 = 'PESO_NASCER'\n",
        "\n",
        "# Filtrar registros que sem nulos nas duas colunas\n",
        "dados2 = dados.dropna(how = 'any', subset=[varNumerica1, varNumerica2])\n",
        "\n",
        "# Selecionar os dois grupos\n",
        "grupo1 = dados2.PESO_US\n",
        "grupo2 = dados2.PESO_NASCER"
      ]
    },
    {
      "cell_type": "code",
      "source": [
        "# 1ª ETAPA - Estatística descritiva\n",
        "\n",
        "# Estatística descritiva - Análise dos valores médios\n",
        "mediaG1 = grupo1.mean()\n",
        "mediaG2 = grupo2.mean()\n",
        "\n",
        "print(f'Média do Grupo 1: {mediaG1:.3f}')\n",
        "print(f'Média do Grupo 2: {mediaG2:.3f}')\n",
        "print()\n",
        "\n",
        "# _______________________________________________________________________________________\n",
        "# 2º ETAPA - Realizar o teste de médias pareadas (antes e após) - 2 variáveis\n",
        "\n",
        "# Teste t - teste de médias para variáveis pareadas (relacionadas)\n",
        "# H0 = As médias são iguais\n",
        "resultado = stats.ttest_rel(grupo1, grupo2)\n",
        "print('Teste-t de média pareado')\n",
        "print(f'p-value: {resultado.pvalue:.3f}')\n",
        "\n",
        "# interpretação\n",
        "if resultado.pvalue <= 0.05:\n",
        "    print('Rejeita H0 => As médias são diferentes!')\n",
        "else:\n",
        "    print('Aceita H0 => As médias são iguais!')\n",
        "\n",
        "# Se, statistic=array([-inf]) ==> INF siginifica que o valor da estatística do teste tende ao infinito (muito baixo)\n",
        "\n",
        "# _______________________________________________________________________________________\n",
        "print()\n",
        "# Estatística descritiva - Análise Gráfica -> Mostrar 2 histogramas\n",
        "fig, (ax1, ax2) = plt.subplots(1, 2, figsize=(8, 4))\n",
        "sns.histplot(grupo1, ax=ax1)\n",
        "sns.histplot(grupo2, ax=ax2)\n",
        "plt.tight_layout()\n",
        "\n",
        "# para salvar/preparar a figura (depois baixar)\n",
        "plt.savefig('FiguraAtividade_5.jpg', format='jpg', dpi=300)"
      ],
      "metadata": {
        "id": "MUofF4Dfj9AK"
      },
      "execution_count": null,
      "outputs": []
    },
    {
      "cell_type": "markdown",
      "source": [],
      "metadata": {
        "id": "FN3YB26PYK2f"
      }
    },
    {
      "cell_type": "markdown",
      "source": [
        "Saiba mais: https://docs.scipy.org/doc/scipy/reference/generated/scipy.stats.ttest_rel.html"
      ],
      "metadata": {
        "id": "qLTIXVYlYD5H"
      }
    },
    {
      "cell_type": "markdown",
      "source": [],
      "metadata": {
        "id": "mY67_uNXYKv0"
      }
    }
  ]
}